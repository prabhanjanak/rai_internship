{
  "nbformat": 4,
  "nbformat_minor": 0,
  "metadata": {
    "colab": {
      "provenance": []
    },
    "kernelspec": {
      "name": "python3",
      "display_name": "Python 3"
    },
    "language_info": {
      "name": "python"
    }
  },
  "cells": [
    {
      "cell_type": "code",
      "execution_count": 1,
      "metadata": {
        "id": "M9VNbm09pjB-"
      },
      "outputs": [],
      "source": [
        "import pandas as pd\n",
        "import numpy as np\n",
        "from sklearn.preprocessing import StandardScaler\n",
        "from sklearn.cluster import KMeans\n",
        "from sklearn.metrics import silhouette_score"
      ]
    },
    {
      "cell_type": "code",
      "source": [
        "from google.colab import drive\n",
        "drive.mount('/content/drive')\n"
      ],
      "metadata": {
        "colab": {
          "base_uri": "https://localhost:8080/"
        },
        "id": "4HjejedPrmuL",
        "outputId": "3e830f84-1056-4335-b674-cecef3bff12d"
      },
      "execution_count": 2,
      "outputs": [
        {
          "output_type": "stream",
          "name": "stdout",
          "text": [
            "Mounted at /content/drive\n"
          ]
        }
      ]
    },
    {
      "cell_type": "code",
      "source": [
        "# Load your training dataset\n",
        "train_data = pd.read_excel('/content/drive/MyDrive/Resolute AI/Task1and2/train.xlsx')\n",
        "\n",
        "# Load your test dataset\n",
        "test_data = pd.read_excel('/content/drive/MyDrive/Resolute AI/Task1and2/test.xlsx')\n",
        "\n",
        "# Preview the data\n",
        "print(train_data.head())\n",
        "print(test_data.head())"
      ],
      "metadata": {
        "colab": {
          "base_uri": "https://localhost:8080/"
        },
        "id": "ozRrmrEhqIle",
        "outputId": "ba5fe89b-01f5-493b-da49-3ddb966e53ce"
      },
      "execution_count": 13,
      "outputs": [
        {
          "output_type": "stream",
          "name": "stdout",
          "text": [
            "   T1  T2  T3  T4  T5  T6  T7  T8  T9  T10  T11  T12  T13  T14  T15  T16  T17  \\\n",
            "0 -70 -61 -66 -53 -51 -63 -82 -57 -76  -78  -66  -66  -61  -59  -73  -75  -63   \n",
            "1 -77 -74 -71 -76 -65 -63 -66 -52 -55  -75  -72  -75  -74  -61  -64  -63  -53   \n",
            "2 -53 -38 -55 -66 -62 -62 -65 -70 -62  -52  -56  -53  -66  -68  -72  -60  -68   \n",
            "3 -72 -62 -59 -65 -65 -65 -78 -82 -83  -59  -84  -60  -64  -83  -69  -72  -95   \n",
            "4 -67 -69 -65 -63 -59 -53 -70 -72 -71  -60  -61  -57  -54  -76  -61  -66  -71   \n",
            "\n",
            "   T18 target  \n",
            "0  -77    B37  \n",
            "1  -63    B61  \n",
            "2  -77    A19  \n",
            "3  -73    A22  \n",
            "4  -80    A33  \n",
            "   T1  T2  T3  T4  T5  T6  T7  T8  T9  T10  T11  T12  T13  T14  T15  T16  T17  \\\n",
            "0 -76 -83 -70 -66 -64 -72 -64 -69 -60  -76  -83  -78  -81  -81  -81  -70  -60   \n",
            "1 -58 -57 -78 -81 -73 -73 -78 -78 -82  -49  -55  -58  -66  -79  -72  -83  -74   \n",
            "2 -70 -70 -71 -69 -69 -68 -61 -55 -53  -82  -87  -76  -68  -57  -64  -75  -57   \n",
            "3 -71 -61 -56 -56 -61 -60 -68 -66 -72  -58  -55  -56  -58  -62  -61  -59  -64   \n",
            "4 -72 -71 -64 -69 -64 -63 -61 -42 -55  -61  -69  -67  -63  -63  -55  -49  -49   \n",
            "\n",
            "   T18  \n",
            "0  -60  \n",
            "1  -80  \n",
            "2  -70  \n",
            "3  -65  \n",
            "4  -57  \n"
          ]
        }
      ]
    },
    {
      "cell_type": "code",
      "source": [
        "# Handle missing values if any\n",
        "train_data = train_data.dropna()\n",
        "test_data = test_data.dropna()\n",
        "\n",
        "# Select only numeric columns for clustering\n",
        "numeric_columns = train_data.select_dtypes(include=[np.number]).columns\n",
        "\n",
        "# Feature scaling\n",
        "scaler = StandardScaler()\n",
        "scaled_train_data = scaler.fit_transform(train_data[numeric_columns])"
      ],
      "metadata": {
        "id": "5_w4WBAHsvyj"
      },
      "execution_count": 6,
      "outputs": []
    },
    {
      "cell_type": "code",
      "source": [
        "# Apply KMeans clustering\n",
        "kmeans = KMeans(n_clusters=3)  # You can adjust the number of clusters\n",
        "kmeans.fit(scaled_train_data)\n",
        "\n",
        "# Predict cluster for each data point in the training set\n",
        "train_clusters = kmeans.predict(scaled_train_data)\n",
        "train_data['Cluster'] = train_clusters"
      ],
      "metadata": {
        "colab": {
          "base_uri": "https://localhost:8080/"
        },
        "id": "rKTsno-Ms8Wu",
        "outputId": "826528be-8c77-4031-f237-35a93d45a349"
      },
      "execution_count": 7,
      "outputs": [
        {
          "output_type": "stream",
          "name": "stderr",
          "text": [
            "/usr/local/lib/python3.10/dist-packages/sklearn/cluster/_kmeans.py:870: FutureWarning: The default value of `n_init` will change from 10 to 'auto' in 1.4. Set the value of `n_init` explicitly to suppress the warning\n",
            "  warnings.warn(\n"
          ]
        }
      ]
    },
    {
      "cell_type": "code",
      "source": [
        "# Evaluate using silhouette score\n",
        "score = silhouette_score(scaled_train_data, train_clusters)\n",
        "print(f'Silhouette Score: {score}')"
      ],
      "metadata": {
        "colab": {
          "base_uri": "https://localhost:8080/"
        },
        "id": "ZFymE6sOtCAA",
        "outputId": "29b82c92-0dfd-4812-a365-debe988f8fb7"
      },
      "execution_count": 8,
      "outputs": [
        {
          "output_type": "stream",
          "name": "stdout",
          "text": [
            "Silhouette Score: 0.21789001477545797\n"
          ]
        }
      ]
    },
    {
      "cell_type": "code",
      "source": [
        "# Scale the test data using the same scaler\n",
        "scaled_test_data = scaler.transform(test_data[numeric_columns])\n",
        "\n",
        "# Predict clusters for test data\n",
        "test_clusters = kmeans.predict(scaled_test_data)\n",
        "test_data['Cluster'] = test_clusters\n",
        "\n",
        "# Save the test data with cluster predictions\n",
        "test_data.to_excel('test_with_clusters.xlsx', index=False)\n",
        "print(test_data)"
      ],
      "metadata": {
        "colab": {
          "base_uri": "https://localhost:8080/"
        },
        "id": "_FI1UdQ8tGQg",
        "outputId": "94b94fc6-111f-4931-bfd3-57635245c296"
      },
      "execution_count": 9,
      "outputs": [
        {
          "output_type": "stream",
          "name": "stdout",
          "text": [
            "       T1  T2  T3  T4  T5  T6  T7  T8  T9  T10  T11  T12  T13  T14  T15  T16  \\\n",
            "0     -76 -83 -70 -66 -64 -72 -64 -69 -60  -76  -83  -78  -81  -81  -81  -70   \n",
            "1     -58 -57 -78 -81 -73 -73 -78 -78 -82  -49  -55  -58  -66  -79  -72  -83   \n",
            "2     -70 -70 -71 -69 -69 -68 -61 -55 -53  -82  -87  -76  -68  -57  -64  -75   \n",
            "3     -71 -61 -56 -56 -61 -60 -68 -66 -72  -58  -55  -56  -58  -62  -61  -59   \n",
            "4     -72 -71 -64 -69 -64 -63 -61 -42 -55  -61  -69  -67  -63  -63  -55  -49   \n",
            "...    ..  ..  ..  ..  ..  ..  ..  ..  ..  ...  ...  ...  ...  ...  ...  ...   \n",
            "15747 -64 -68 -64 -67 -66 -53 -61 -51 -44  -76  -64  -62  -68  -60  -58  -54   \n",
            "15748 -57 -46 -64 -55 -56 -54 -70 -64 -63  -51  -56  -58  -60  -61  -61  -62   \n",
            "15749 -76 -67 -69 -71 -68 -70 -57 -57 -59  -76  -85  -72  -67  -58  -66  -66   \n",
            "15750 -69 -78 -65 -65 -38 -55 -66 -66 -76  -64  -64  -66  -55  -60  -55  -64   \n",
            "15751 -74 -68 -70 -80 -66 -61 -68 -62 -49  -79  -82  -71  -68  -74  -61  -57   \n",
            "\n",
            "       T17  T18  Cluster  \n",
            "0      -60  -60        0  \n",
            "1      -74  -80        2  \n",
            "2      -57  -70        0  \n",
            "3      -64  -65        1  \n",
            "4      -49  -57        0  \n",
            "...    ...  ...      ...  \n",
            "15747  -48  -51        0  \n",
            "15748  -62  -64        1  \n",
            "15749  -55  -54        0  \n",
            "15750  -66  -69        1  \n",
            "15751  -52  -56        0  \n",
            "\n",
            "[15752 rows x 19 columns]\n"
          ]
        }
      ]
    }
  ]
}